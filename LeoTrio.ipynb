{
 "cells": [
  {
   "cell_type": "code",
   "execution_count": 264,
   "metadata": {},
   "outputs": [],
   "source": [
    "import sys\n",
    "import os\n",
    "import math\n",
    "import logging\n",
    "import numpy as np\n",
    "import galsim"
   ]
  },
  {
   "cell_type": "code",
   "execution_count": 265,
   "metadata": {},
   "outputs": [],
   "source": [
    "psf_beta = 3\n",
    "psf_re = 0.6\n",
    "psf_trunc = 2. * psf_re\n",
    "pixel_scale = 0.3\n",
    "stamp_size = 6\n",
    "n = 150"
   ]
  },
  {
   "cell_type": "code",
   "execution_count": 266,
   "metadata": {},
   "outputs": [],
   "source": [
    "psf = galsim.Moffat(beta=psf_beta, half_light_radius=psf_re, trunc=psf_trunc)"
   ]
  },
  {
   "cell_type": "code",
   "execution_count": 267,
   "metadata": {},
   "outputs": [],
   "source": [
    "canvas = galsim.ImageF(1000, 1000,\n",
    "                      scale=pixel_scale)"
   ]
  },
  {
   "cell_type": "code",
   "execution_count": 268,
   "metadata": {},
   "outputs": [],
   "source": [
    "%run M65.ipynb\n",
    "%run M66.ipynb\n",
    "%run NGC3628.ipynb"
   ]
  },
  {
   "cell_type": "code",
   "execution_count": 269,
   "metadata": {},
   "outputs": [],
   "source": [
    "shift_star = np.random.rand(n, 2) * 986 - np.ones((n, 2)) * 493"
   ]
  },
  {
   "cell_type": "code",
   "execution_count": 270,
   "metadata": {},
   "outputs": [],
   "source": [
    "for a in range(n):\n",
    "    shift = shift_star[a, :]\n",
    "    star = galsim.DeltaFunction(flux=0.01)\n",
    "    x = np.round(shift[0])\n",
    "    y = np.round(shift[1])\n",
    "    final_star = galsim.Convolve([star, psf])\n",
    "    b = galsim.BoundsI(xmin=500+x-(stamp_size/2)+1,\n",
    "                      xmax=500+x+(stamp_size/2),\n",
    "                      ymin=500+y-(stamp_size/2)+1,\n",
    "                      ymax=500+y+(stamp_size/2))\n",
    "    final_star.drawImage(image=canvas[b], scale=pixel_scale, add_to_image=True)"
   ]
  },
  {
   "cell_type": "code",
   "execution_count": 271,
   "metadata": {},
   "outputs": [
    {
     "data": {
      "text/plain": [
       "galsim.Image(bounds=galsim.BoundsI(xmin=423, xmax=428, ymin=673, ymax=678), array=\n",
       "array([[0.00853325, 0.01430972, 0.01873293, 0.01873293, 0.01430973,\n",
       "        0.00853325],\n",
       "       [0.01430972, 0.02517025, 0.03484803, 0.03484803, 0.02517026,\n",
       "        0.01430973],\n",
       "       [0.01873292, 0.03484802, 0.05004932, 0.05004933, 0.03484803,\n",
       "        0.01873294],\n",
       "       [0.01873292, 0.03484802, 0.05004932, 0.05004933, 0.03484803,\n",
       "        0.01873294],\n",
       "       [0.01430972, 0.02517025, 0.03484803, 0.03484803, 0.02517026,\n",
       "        0.01430973],\n",
       "       [0.00853325, 0.01430972, 0.01873293, 0.01873293, 0.01430973,\n",
       "        0.00853325]], dtype=float32), wcs=galsim.PixelScale(0.3))"
      ]
     },
     "execution_count": 271,
     "metadata": {},
     "output_type": "execute_result"
    }
   ],
   "source": [
    "big_star = galsim.DeltaFunction(flux=1.)\n",
    "big_star = galsim.Convolve([big_star, psf])\n",
    "b_star = galsim.BoundsI(xmin=425-(stamp_size/2)+1,\n",
    "                        xmax=425+(stamp_size/2),\n",
    "                        ymin=675-(stamp_size/2)+1,\n",
    "                        ymax=675+(stamp_size/2))\n",
    "big_star.drawImage(image=canvas[b_star], scale=pixel_scale, add_to_image=True)"
   ]
  },
  {
   "cell_type": "code",
   "execution_count": 272,
   "metadata": {},
   "outputs": [
    {
     "data": {
      "text/plain": [
       "galsim.Image(bounds=galsim.BoundsI(xmin=1, xmax=1000, ymin=1, ymax=1000), array=\n",
       "array([[-2.6835052e-11,  1.0653015e-10, -3.6396497e-11, ...,\n",
       "         1.0022678e-11,  1.9315731e-11, -5.4335515e-11],\n",
       "       [ 7.9914401e-11, -9.7122282e-11,  7.2881819e-11, ...,\n",
       "         6.3460480e-11,  2.9566877e-11,  3.3523798e-11],\n",
       "       [-8.8702247e-11,  1.1456447e-10, -7.0172153e-11, ...,\n",
       "        -5.9169544e-11, -8.1535204e-12, -1.1559554e-11],\n",
       "       ...,\n",
       "       [ 1.7374996e-11, -1.1788502e-11,  3.0823448e-11, ...,\n",
       "         5.3140256e-11,  4.6994342e-11, -4.7209299e-11],\n",
       "       [ 7.2040096e-11,  1.7818335e-11, -2.1058360e-11, ...,\n",
       "        -2.3149021e-11, -2.4531365e-11,  9.3511639e-12],\n",
       "       [-5.7725262e-11,  6.3349888e-11,  1.4110901e-11, ...,\n",
       "         1.4846353e-11, -4.7732495e-12,  5.5851306e-11]], dtype=float32), wcs=galsim.PixelScale(0.5))"
      ]
     },
     "execution_count": 272,
     "metadata": {},
     "output_type": "execute_result"
    }
   ],
   "source": [
    "M65.drawImage(image=canvas, offset=galsim.PositionI(200, 200), scale=0.5, add_to_image=True)\n",
    "M66.drawImage(image=canvas, offset=galsim.PositionI(275, -125), scale=0.5, add_to_image=True)\n",
    "NGC3628.drawImage(image=canvas, offset=galsim.PositionI(-250, -125), scale=0.5, add_to_image=True)"
   ]
  },
  {
   "cell_type": "code",
   "execution_count": 273,
   "metadata": {},
   "outputs": [],
   "source": [
    "file_name = \"LeoTrio.fits\"\n",
    "canvas.write(file_name)"
   ]
  },
  {
   "cell_type": "code",
   "execution_count": null,
   "metadata": {},
   "outputs": [],
   "source": []
  }
 ],
 "metadata": {
  "kernelspec": {
   "display_name": "Python 3",
   "language": "python",
   "name": "python3"
  },
  "language_info": {
   "codemirror_mode": {
    "name": "ipython",
    "version": 3
   },
   "file_extension": ".py",
   "mimetype": "text/x-python",
   "name": "python",
   "nbconvert_exporter": "python",
   "pygments_lexer": "ipython3",
   "version": "3.6.6"
  }
 },
 "nbformat": 4,
 "nbformat_minor": 2
}
