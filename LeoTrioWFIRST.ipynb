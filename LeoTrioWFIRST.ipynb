{
 "cells": [
  {
   "cell_type": "code",
   "execution_count": 1,
   "metadata": {},
   "outputs": [],
   "source": [
    "import sys\n",
    "import os\n",
    "import math\n",
    "import numpy as np\n",
    "import galsim as galsim\n",
    "import galsim.wfirst as wfirst"
   ]
  },
  {
   "cell_type": "code",
   "execution_count": 2,
   "metadata": {},
   "outputs": [],
   "source": [
    "use_filters = None"
   ]
  },
  {
   "cell_type": "code",
   "execution_count": 3,
   "metadata": {},
   "outputs": [],
   "source": [
    "random_seed = 1324789\n",
    "rng = galsim.BaseDeviate(random_seed)"
   ]
  },
  {
   "cell_type": "code",
   "execution_count": 4,
   "metadata": {},
   "outputs": [],
   "source": [
    "poisson_noise = galsim.PoissonNoise(rng)"
   ]
  },
  {
   "cell_type": "code",
   "execution_count": 5,
   "metadata": {},
   "outputs": [],
   "source": [
    "filters = wfirst.getBandpasses(AB_zeropoint=True)"
   ]
  },
  {
   "cell_type": "code",
   "execution_count": 6,
   "metadata": {},
   "outputs": [],
   "source": [
    "use_SCA = 7\n",
    "PSFs = wfirst.getPSF(SCAs=use_SCA, approximate_struts=True, n_waves=10)\n",
    "PSF = PSFs[use_SCA]"
   ]
  },
  {
   "cell_type": "code",
   "execution_count": 27,
   "metadata": {},
   "outputs": [],
   "source": [
    "stamp_star = 128\n",
    "stamp_size = 1536\n",
    "stamp_star_big = 512"
   ]
  },
  {
   "cell_type": "code",
   "execution_count": 22,
   "metadata": {},
   "outputs": [],
   "source": [
    "ra_targ = 30.*galsim.degrees\n",
    "dec_targ = -60.*galsim.degrees\n",
    "targ_pos = galsim.CelestialCoord(ra=ra_targ, dec=dec_targ)\n",
    "wcs_list = wfirst.getWCS(world_pos=targ_pos, SCAs=use_SCA)\n",
    "wcs = wcs_list[use_SCA]\n",
    "SCA_cent_pos = wcs.toWorld(galsim.PositionD(wfirst.n_pix/2, wfirst.n_pix/2))"
   ]
  },
  {
   "cell_type": "code",
   "execution_count": 23,
   "metadata": {},
   "outputs": [],
   "source": [
    "%run M65.ipynb\n",
    "%run M66.ipynb\n",
    "%run NGC3628.ipynb"
   ]
  },
  {
   "cell_type": "code",
   "execution_count": 32,
   "metadata": {},
   "outputs": [],
   "source": [
    "n = 50\n",
    "shift_star = np.random.rand(n, 2) * 3800 - np.ones((n, 2)) * 1900"
   ]
  },
  {
   "cell_type": "code",
   "execution_count": 25,
   "metadata": {},
   "outputs": [
    {
     "name": "stdout",
     "output_type": "stream",
     "text": [
      "137.76328140781058\n"
     ]
    }
   ],
   "source": [
    "hst_eff_area = 2.4**2 * (1.-0.33**2)\n",
    "wfirst_eff_area = galsim.wfirst.diameter**2 * (1.-galsim.wfirst.obscuration**2)\n",
    "flux_scaling = (wfirst_eff_area/hst_eff_area) * wfirst.exptime\n",
    "print(flux_scaling)"
   ]
  },
  {
   "cell_type": "code",
   "execution_count": 33,
   "metadata": {},
   "outputs": [],
   "source": [
    "for filter_name, filter_ in filters.items():\n",
    "    if use_filters is not None and filter_name[0] not in use_filters:\n",
    "        continue\n",
    "    file_name = 'demo13_PSF_{0}.fits'.format(filter_name)\n",
    "    point = galsim.DeltaFunction(flux=1.)\n",
    "    star_sed = galsim.SED(lambda x:1, 'nm', 'flambda').withFlux(1.,filter_)\n",
    "    star = galsim.Convolve(point*star_sed, PSF)\n",
    "    img_psf = galsim.ImageF(64, 64)\n",
    "    star.drawImage(bandpass=filter_, image=img_psf, scale=wfirst.pixel_scale)\n",
    "    img_psf.write(file_name)\n",
    "    \n",
    "    final_image = galsim.ImageF(wfirst.n_pix, wfirst.n_pix, wcs=wcs)\n",
    "    \n",
    "    star_sed = galsim.SED(lambda x:1, 'nm', 'flambda').withFlux(1.e4,filter_)\n",
    "    for a in range(n):\n",
    "        shift = shift_star[a,:]\n",
    "        x = np.round(shift[0])\n",
    "        y = np.round(shift[1])\n",
    "        star_final = galsim.Convolve(flux_scaling*point*star_sed, PSF)\n",
    "        b = galsim.BoundsI(xmin=2048+x-(stamp_star/2)+1,\n",
    "                          xmax=2048+x+(stamp_star/2),\n",
    "                          ymin=2048+y-(stamp_star/2)+1,\n",
    "                          ymax=2048+y+(stamp_star/2))\n",
    "        star_final.drawImage(bandpass=filter_, image=final_image[b], scale=wfirst.pixel_scale, add_to_image=True)\n",
    "    \n",
    "    gal_sed = galsim.SED(lambda x:1, 'nm', 'flambda').withFlux(7.e5,filter_)\n",
    "    star_sed = galsim.SED(lambda x:1, 'nm', 'flambda').withFlux(1.e5,filter_)\n",
    "    b_M65 = galsim.BoundsI(xmin=2848-(stamp_size/2)+1,\n",
    "                          xmax=2848+(stamp_size/2),\n",
    "                          ymin=2848-(stamp_size/2)+1,\n",
    "                          ymax=2848+(stamp_size/2))\n",
    "    M65_final = galsim.Convolve(flux_scaling*M65*gal_sed, PSF)\n",
    "    M65_final.drawImage(bandpass=filter_, image=final_image[b_M65], scale=wfirst.pixel_scale, add_to_image=True)\n",
    "    b_M66 = galsim.BoundsI(xmin=3148-(stamp_size/2)+1,\n",
    "                          xmax=3148+(stamp_size/2),\n",
    "                          ymin=1548-(stamp_size/2)+1,\n",
    "                          ymax=1548+(stamp_size/2))\n",
    "    M66_final = galsim.Convolve(flux_scaling*M66*gal_sed, PSF)\n",
    "    M66_final.drawImage(bandpass=filter_, image=final_image[b_M66], scale=wfirst.pixel_scale, add_to_image=True)\n",
    "    b_NGC3628 = galsim.BoundsI(xmin=1048-(stamp_size/2)+1,\n",
    "                              xmax=1048+(stamp_size/2),\n",
    "                              ymin=1548-(stamp_size/2)+1,\n",
    "                              ymax=1548+(stamp_size/2))\n",
    "    NGC3628_final = galsim.Convolve(flux_scaling*NGC3628*gal_sed, PSF)\n",
    "    NGC3628_final.drawImage(bandpass=filter_, image=final_image[b_NGC3628], scale=wfirst.pixel_scale, add_to_image=True)\n",
    "    b_star = galsim.BoundsI(xmin=1748-(stamp_star_big/2)+1,\n",
    "                           xmax=1748+(stamp_star_big/2),\n",
    "                           ymin=2748-(stamp_star_big/2)+1,\n",
    "                           ymax=2748+(stamp_star_big/2))\n",
    "    star_final = galsim.Convolve(flux_scaling*point*star_sed, PSF)\n",
    "    star_final.drawImage(bandpass=filter_, image=final_image[b_star], scale=wfirst.pixel_scale, add_to_image=True)\n",
    "    \n",
    "    file_name = 'demo13_LeoTrio.fits'\n",
    "    final_image.write(file_name)\n",
    "    \n",
    "    sky_level = wfirst.getSkyLevel(filters[filter_name], world_pos=SCA_cent_pos)\n",
    "    sky_level *= (1.0 + wfirst.stray_light_fraction)\n",
    "    sky_image = final_image.copy()\n",
    "    wcs.makeSkyImage(sky_image, sky_level)\n",
    "    sky_image += wfirst.thermal_backgrounds[filter_name]*wfirst.exptime\n",
    "    final_image += sky_image\n",
    "    \n",
    "    final_image.addNoise(poisson_noise)\n",
    "    \n",
    "    save_image = final_image.copy()\n",
    "    \n",
    "    wfirst.addReciprocityFailure(final_image)\n",
    "    \n",
    "    diff = final_image-save_image\n",
    "    out_filename = 'demo13_RecipFail_{0}.fits'.format(filter_name)\n",
    "    final_image.write(out_filename)\n",
    "    out_filename = 'demo13_diff_RecipFail_{0}.fits'.format(filter_name)\n",
    "    diff.write(out_filename)\n",
    "    \n",
    "    final_image.quantize()\n",
    "    \n",
    "    dark_current = wfirst.dark_current*wfirst.exptime\n",
    "    dark_noise = galsim.DeviateNoise(galsim.PoissonDeviate(rng, dark_current))\n",
    "    final_image.addNoise(dark_noise)\n",
    "    \n",
    "    save_image = final_image.copy()\n",
    "    \n",
    "    wfirst.applyNonlinearity(final_image)\n",
    "    \n",
    "    diff = final_image-save_image\n",
    "    out_filename = 'demo13_NL_{0}.fits'.format(filter_name)\n",
    "    final_image.write(out_filename)\n",
    "    out_filename = 'demo13_diff_NL_{0}.fits'.format(filter_name)\n",
    "    diff.write(out_filename)\n",
    "    save_image = final_image.copy()\n",
    "    \n",
    "    wfirst.applyIPC(final_image)\n",
    "    \n",
    "    diff = final_image-save_image\n",
    "    out_filename = 'demo13_IPC_{0}.fits'.format(filter_name)\n",
    "    final_image.write(out_filename)\n",
    "    out_filename = 'demo13_diff_IPC_{0}.fits'.format(filter_name)\n",
    "    diff.write(out_filename)\n",
    "    \n",
    "    read_noise = galsim.GaussianNoise(rng, sigma=wfirst.read_noise)\n",
    "    final_image.addNoise(read_noise)\n",
    "    \n",
    "    final_image /= wfirst.gain\n",
    "    \n",
    "    final_image.quantize()\n",
    "    \n",
    "    sky_image.quantize()\n",
    "    tot_sky_image = (sky_image + round(dark_current))/wfirst.gain\n",
    "    tot_sky_image.quantize()\n",
    "    final_image -= tot_sky_image\n",
    "    \n",
    "    out_filename = 'demo13_{0}.fits'.format(filter_name)\n",
    "    final_image.write(out_filename)"
   ]
  },
  {
   "cell_type": "code",
   "execution_count": null,
   "metadata": {},
   "outputs": [],
   "source": []
  }
 ],
 "metadata": {
  "kernelspec": {
   "display_name": "Python 3",
   "language": "python",
   "name": "python3"
  },
  "language_info": {
   "codemirror_mode": {
    "name": "ipython",
    "version": 3
   },
   "file_extension": ".py",
   "mimetype": "text/x-python",
   "name": "python",
   "nbconvert_exporter": "python",
   "pygments_lexer": "ipython3",
   "version": "3.6.6"
  }
 },
 "nbformat": 4,
 "nbformat_minor": 2
}
